{
  "cells": [
    {
      "cell_type": "markdown",
      "metadata": {
        "id": "view-in-github",
        "colab_type": "text"
      },
      "source": [
        "<a href=\"https://colab.research.google.com/github/tkbharadwaj/vggnet/blob/main/VGG.ipynb\" target=\"_parent\"><img src=\"https://colab.research.google.com/assets/colab-badge.svg\" alt=\"Open In Colab\"/></a>"
      ]
    },
    {
      "cell_type": "markdown",
      "source": [
        "Import Modules, Initialize Hyperparameters"
      ],
      "metadata": {
        "id": "f4fuoKP-bdiT"
      }
    },
    {
      "cell_type": "code",
      "execution_count": null,
      "metadata": {
        "id": "3jAo4l09Y9CF"
      },
      "outputs": [],
      "source": [
        "'''\n",
        "Tejas Bharadwaj\n",
        "7/6/23\n",
        "Classifier for CIFAR-10 Dataset\n",
        "Goal: 90% testing accuracy\n",
        "Some code borrowed & modified from:\n",
        "https://github.com/patrickloeber/pytorchTutorial/blob/master/14_cnn.py\n",
        "'''\n",
        "\n",
        "import torch\n",
        "import numpy as np\n",
        "import torch.nn as nn\n",
        "import matplotlib.pyplot as plt\n",
        "import torch.optim as optim\n",
        "from torchsummary import summary\n",
        "import torchvision\n",
        "import torchvision.transforms as transforms\n",
        "import math\n",
        "\n",
        "device = torch.device(\"cuda:0\")\n",
        "batch_size = 128\n",
        "learning_rate = .001\n",
        "num_epochs = 50"
      ]
    },
    {
      "cell_type": "markdown",
      "source": [
        "Load Dataset,\n",
        "normalize + transform using RandomCrop and HorizontalFlip for model's resilience"
      ],
      "metadata": {
        "id": "GsQuP3jhbmWn"
      }
    },
    {
      "cell_type": "markdown",
      "source": [
        "Dataset used is CIFAR-10\n"
      ],
      "metadata": {
        "id": "kvi94ess632E"
      }
    },
    {
      "cell_type": "code",
      "execution_count": null,
      "metadata": {
        "colab": {
          "base_uri": "https://localhost:8080/"
        },
        "id": "PdWJS9A1LkNt",
        "outputId": "d9a2209a-2eee-470d-d399-1b8edff34720"
      },
      "outputs": [
        {
          "output_type": "stream",
          "name": "stdout",
          "text": [
            "Files already downloaded and verified\n",
            "Files already downloaded and verified\n",
            "<torch.utils.data.dataloader.DataLoader object at 0x7f9f81b3d660>\n"
          ]
        }
      ],
      "source": [
        "#load and normalize dataset\n",
        "transform = transforms.Compose(\n",
        "    [ transforms.ToTensor(), transforms.Normalize((0.5,0.5,0.5), (0.5,0.5,0.5))],)\n",
        "train_set = torchvision.datasets.CIFAR10(root = \"/content\", download = True, train = True, transform =transforms.Compose([\n",
        "            transforms.RandomHorizontalFlip(),\n",
        "            transforms.RandomCrop(32, 4),\n",
        "            transform]))\n",
        "test_set = torchvision.datasets.CIFAR10(root = \"/content\", download = True, train = False, transform = transform)\n",
        "\n",
        "train_load = torch.utils.data.DataLoader(train_set, batch_size = batch_size, shuffle = True)\n",
        "test_load = torch.utils.data.DataLoader(test_set, batch_size = batch_size, shuffle = True)\n",
        "\n",
        "classes = ('airplane', 'car', 'bird', 'cat', 'deer', 'dog', 'frog', 'horse', 'ship',  'truck')\n",
        "\n",
        "print(train_load)\n"
      ]
    },
    {
      "cell_type": "markdown",
      "source": [
        "Model Architecture"
      ],
      "metadata": {
        "id": "FkHTze92b0kR"
      }
    },
    {
      "cell_type": "code",
      "execution_count": null,
      "metadata": {
        "id": "Zi2ki61UXzP9"
      },
      "outputs": [],
      "source": [
        "#Implementation of VGG-13 Network by Tejas Bharadwaj\n",
        "#Original Paper: https://arxiv.org/pdf/1409.1556v6.pdf\n",
        "\n",
        "class VGG(nn.Module):\n",
        "    def __init__(self):\n",
        "        super(VGG, self).__init__()\n",
        "        self.layer1 = nn.Sequential(\n",
        "            nn.Conv2d(3,64, kernel_size=3, stride =1, padding = 1),\n",
        "            nn.BatchNorm2d(64),\n",
        "            nn.ReLU(),\n",
        "            nn.Conv2d(64,64, kernel_size=3, stride =1, padding = 1),\n",
        "            nn.BatchNorm2d(64),\n",
        "            nn.ReLU(),\n",
        "            nn.MaxPool2d(kernel_size = 2, stride = 2),\n",
        "            )\n",
        "        self.layer2 = nn.Sequential(\n",
        "            nn.Conv2d(64,128, kernel_size=3, stride =1, padding = 1),\n",
        "            nn.BatchNorm2d(128),\n",
        "            nn.ReLU(),\n",
        "            nn.Conv2d(128,128, kernel_size=3, stride =1, padding = 1),\n",
        "            nn.BatchNorm2d(128),\n",
        "            nn.ReLU(),\n",
        "            nn.MaxPool2d(kernel_size = 2, stride = 2),\n",
        "            )\n",
        "        self.layer3 = nn.Sequential(\n",
        "            nn.Conv2d(128,256, kernel_size=3, stride =1, padding = 1),\n",
        "            nn.BatchNorm2d(256),\n",
        "            nn.ReLU(),\n",
        "            nn.Conv2d(256,256, kernel_size=3, stride =1, padding = 1),\n",
        "            nn.BatchNorm2d(256),\n",
        "            nn.ReLU(),\n",
        "            nn.MaxPool2d(kernel_size = 2, stride = 2),\n",
        "        )\n",
        "        self.layer4 = nn.Sequential(\n",
        "            nn.Conv2d(256,512, kernel_size=3, stride =1, padding = 1),\n",
        "            nn.BatchNorm2d(512),\n",
        "            nn.ReLU(),\n",
        "            nn.Conv2d(512,512, kernel_size=3, stride =1, padding = 1),\n",
        "            nn.BatchNorm2d(512),\n",
        "            nn.ReLU(),\n",
        "            nn.MaxPool2d(kernel_size = 2, stride = 2),\n",
        "        )\n",
        "        self.layer5 = nn.Sequential(\n",
        "            nn.Conv2d(512,512, kernel_size=3, stride =1, padding = 1),\n",
        "            nn.BatchNorm2d(512),\n",
        "            nn.ReLU(),\n",
        "            nn.Conv2d(512,512, kernel_size=3, stride =1, padding = 1),\n",
        "            nn.BatchNorm2d(512),\n",
        "            nn.ReLU(),\n",
        "            nn.MaxPool2d(kernel_size = 2, stride = 2)\n",
        "        )\n",
        "        self.fc1 = nn.Sequential(\n",
        "            nn.Dropout(),\n",
        "            nn.Linear(512, 512),\n",
        "            nn.ReLU(),\n",
        "        )\n",
        "        self.fc2 = nn.Sequential(\n",
        "            nn.Dropout(),\n",
        "            nn.Linear(512, 512),\n",
        "            nn.ReLU(),\n",
        "        )\n",
        "        self.fc3 = nn.Sequential(\n",
        "            nn.Linear(512, 10)\n",
        "        )\n",
        "\n",
        "  #initialize weights (paper says variance of .01, 0.1 works better)\n",
        "        for m in self.modules():\n",
        "            if isinstance(m, nn.Conv2d): #or isinstance(m, nn.Linear):\n",
        "                n = m.kernel_size[0] * m.kernel_size[1] * m.out_channels\n",
        "                #m.weight.data.normal_(0,  math.sqrt(2. / n))\n",
        "                #m.weight.data.normal_(0, 0.01)\n",
        "                torch.nn.init.xavier_uniform_(m.weight.data) #Understanding the difficulty of training deep feedforward neural networks - Glorot, X. & Bengio, Y. (2010)\n",
        "                m.bias.data.zero_()\n",
        "\n",
        "    def forward(self, x):\n",
        "      #conv layers\n",
        "        x = self.layer1(x)\n",
        "        x = self.layer2(x)\n",
        "        x = self.layer3(x)\n",
        "        x = self.layer4(x)\n",
        "        x = self.layer5(x)\n",
        "      #fully connected layers\n",
        "        x = x.view(x.size(0), -1)\n",
        "        x = self.fc1(x)\n",
        "        x = self.fc2(x)\n",
        "        x = self.fc3(x)\n",
        "        return x\n",
        "\n",
        "\n",
        "model = VGG()\n",
        "model = model.to(device)\n",
        "summary(model, (3, 32 , 32))"
      ]
    },
    {
      "cell_type": "code",
      "source": [
        "def learning_rate_decay(model, optimizer, decay = 0.5):\n",
        "  for param_group in optimizer.param_groups:\n",
        "        param_group['lr'] = decay*param_group['lr']"
      ],
      "metadata": {
        "id": "GDkTz72J0VUN"
      },
      "execution_count": null,
      "outputs": []
    },
    {
      "cell_type": "markdown",
      "source": [
        "Train the model"
      ],
      "metadata": {
        "id": "iKL8qHy3b78b"
      }
    },
    {
      "cell_type": "code",
      "execution_count": null,
      "metadata": {
        "id": "si_P249XQM2K"
      },
      "outputs": [],
      "source": [
        "#train the model\n",
        "num_epochs = 250\n",
        "count = 1\n",
        "learning_rate = .01\n",
        "lrs = np.random.rand(20)*.005+.001\n",
        "decay_after_epochs = 20\n",
        "print(\"\\nlearning rate: \", learning_rate)\n",
        "print(\"\\n\")\n",
        "#model = VGG().to(device)\n",
        "wd = 5*10**(-4) #from original paper\n",
        "criterion = nn.CrossEntropyLoss()\n",
        "optimizer = torch.optim.SGD(model.parameters(), lr = learning_rate, weight_decay = wd)\n",
        "\n",
        "n_total_steps = len(train_load)\n",
        "\n",
        "\n",
        "for epoch in range(num_epochs):\n",
        "    model.train()\n",
        "    #learning rate decay ** make into function\n",
        "    if count % decay_after_epochs == 0:\n",
        "      learning_rate_decay(model, optimizer)\n",
        "    count += 1\n",
        "    for i, (images, labels) in enumerate(train_load):\n",
        "        images = images.to(device)\n",
        "        outputs = model(images)\n",
        "        outputs = outputs.to(device)\n",
        "        labels = labels.to(device)\n",
        "        loss = criterion(outputs, labels)\n",
        "        optimizer.zero_grad()\n",
        "        loss.backward()\n",
        "        optimizer.step()\n",
        "\n",
        "        if (i+1) % 50 == 0:\n",
        "            print(images.shape)\n",
        "            print (f'Epoch [{epoch+1}/{num_epochs}], Step [{i+1}/{n_total_steps}], Loss: {loss.item():.4f}')\n",
        "\n",
        "    model.eval()\n",
        "    with torch.no_grad():\n",
        "      n_correct = 0\n",
        "      n_samples = 0\n",
        "      n_class_correct = [0 for i in range(10)]\n",
        "      n_class_samples = [0 for i in range(10)]\n",
        "      for images, labels in test_load:\n",
        "          images = images.to(device)\n",
        "          outputs = model(images)\n",
        "          labels = labels.to(device)\n",
        "          outputs = outputs.to(device)\n",
        "          _, predicted = torch.max(outputs, 1)\n",
        "          n_samples += labels.size(0)\n",
        "          n_correct += (predicted == labels).sum().item()\n",
        "          for i in range(batch_size):\n",
        "              if i >= len(labels):\n",
        "                break;\n",
        "              #print(labels.shape)\n",
        "              label = labels[i]\n",
        "              pred = predicted[i]\n",
        "              if (label == pred):\n",
        "                  n_class_correct[label] += 1\n",
        "              n_class_samples[label] += 1\n",
        "\n",
        "      acc = 100.0 * n_correct / n_samples\n",
        "      print(f'Accuracy of the network: {acc} %')\n"
      ]
    }
  ],
  "metadata": {
    "accelerator": "GPU",
    "colab": {
      "provenance": [],
      "gpuType": "V100",
      "include_colab_link": true
    },
    "kernelspec": {
      "display_name": "Python 3",
      "name": "python3"
    },
    "language_info": {
      "name": "python"
    }
  },
  "nbformat": 4,
  "nbformat_minor": 0
}