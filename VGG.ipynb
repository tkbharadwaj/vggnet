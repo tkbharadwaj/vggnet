{
  "cells": [
    {
      "cell_type": "markdown",
      "metadata": {
        "id": "view-in-github",
        "colab_type": "text"
      },
      "source": [
        "<a href=\"https://colab.research.google.com/github/tkbharadwaj/vggnet/blob/main/VGG.ipynb\" target=\"_parent\"><img src=\"https://colab.research.google.com/assets/colab-badge.svg\" alt=\"Open In Colab\"/></a>"
      ]
    },
    {
      "cell_type": "markdown",
      "source": [
        "```\n",
        "https://github.com/tkbharadwaj/vggnet\n",
        "```\n",
        "Tejas Bharadwaj <br>\n",
        "7/6/23 <br>\n",
        "Classifier for CIFAR-10 Dataset <br>\n",
        "Goal: 90% testing accuracy <br>\n",
        "Some code borrowed & modified from:\n",
        "\n",
        "```\n",
        "https://github.com/patrickloeber/pytorchTutorial/blob/master/14_cnn.py\n",
        "```\n",
        "\n"
      ],
      "metadata": {
        "id": "mDWVkEiuDXyO"
      }
    },
    {
      "cell_type": "markdown",
      "metadata": {
        "id": "f4fuoKP-bdiT"
      },
      "source": [
        "Import Modules, Initialize Hyperparameters"
      ]
    },
    {
      "cell_type": "code",
      "execution_count": 2,
      "metadata": {
        "id": "3jAo4l09Y9CF"
      },
      "outputs": [],
      "source": [
        "import torch\n",
        "import numpy as np\n",
        "import torch.nn as nn\n",
        "import matplotlib.pyplot as plt\n",
        "import torch.optim as optim\n",
        "from torchsummary import summary\n",
        "import torchvision\n",
        "import torchvision.transforms as transforms\n",
        "import math\n",
        "\n",
        "import random\n",
        "\n",
        "import matplotlib.pyplot as plt\n",
        "from matplotlib import animation\n",
        "from tqdm import trange\n",
        "device = torch.device(\"cuda:0\")\n",
        "batch_size = 128\n",
        "learning_rate = .001\n",
        "num_epochs = 50"
      ]
    },
    {
      "cell_type": "markdown",
      "metadata": {
        "id": "GsQuP3jhbmWn"
      },
      "source": [
        "Load Dataset,\n",
        "normalize + transform using RandomCrop and HorizontalFlip for model's resilience"
      ]
    },
    {
      "cell_type": "markdown",
      "metadata": {
        "id": "kvi94ess632E"
      },
      "source": [
        "Dataset used is CIFAR-10\n"
      ]
    },
    {
      "cell_type": "code",
      "execution_count": 3,
      "metadata": {
        "id": "PdWJS9A1LkNt",
        "colab": {
          "base_uri": "https://localhost:8080/"
        },
        "outputId": "9f1862e1-1d7f-401a-8069-4a2cfdd11295"
      },
      "outputs": [
        {
          "output_type": "stream",
          "name": "stdout",
          "text": [
            "Downloading https://www.cs.toronto.edu/~kriz/cifar-10-python.tar.gz to /content/cifar-10-python.tar.gz\n"
          ]
        },
        {
          "output_type": "stream",
          "name": "stderr",
          "text": [
            "100%|██████████| 170498071/170498071 [00:05<00:00, 28460137.17it/s]\n"
          ]
        },
        {
          "output_type": "stream",
          "name": "stdout",
          "text": [
            "Extracting /content/cifar-10-python.tar.gz to /content\n",
            "Files already downloaded and verified\n",
            "<torch.utils.data.dataloader.DataLoader object at 0x7c85140bb4c0>\n"
          ]
        }
      ],
      "source": [
        "transform = transforms.Compose(\n",
        "    [ transforms.ToTensor(), transforms.Normalize((0.5,0.5,0.5), (0.5,0.5,0.5))],)\n",
        "train_set = torchvision.datasets.CIFAR10(root = \"/content\", download = True, train = True, transform =transforms.Compose([\n",
        "            transforms.RandomHorizontalFlip(),\n",
        "            transforms.RandomCrop(32, 4),\n",
        "            transform]))\n",
        "test_set = torchvision.datasets.CIFAR10(root = \"/content\", download = True, train = False, transform = transform)\n",
        "\n",
        "train_load = torch.utils.data.DataLoader(train_set, batch_size = batch_size, shuffle = True)\n",
        "test_load = torch.utils.data.DataLoader(test_set, batch_size = batch_size, shuffle = True)\n",
        "\n",
        "classes = ('airplane', 'car', 'bird', 'cat', 'deer', 'dog', 'frog', 'horse', 'ship',  'truck')\n",
        "\n",
        "print(train_load)\n"
      ]
    },
    {
      "cell_type": "markdown",
      "metadata": {
        "id": "FkHTze92b0kR"
      },
      "source": [
        "Implementation of VGG-13 Network by Tejas Bharadwaj <br>\n",
        "Original Paper: ``` https://arxiv.org/pdf/1409.1556v6.pdf ``` <br>\n",
        "Weight Initialization done according to \"Understanding the difficulty of training deep feedforward neural networks - Glorot, X. & Bengio, Y. (2010)\" <br>"
      ]
    },
    {
      "cell_type": "code",
      "execution_count": 4,
      "metadata": {
        "id": "Zi2ki61UXzP9",
        "colab": {
          "base_uri": "https://localhost:8080/"
        },
        "outputId": "0670d8b1-75ac-42c3-add2-28045bb61949"
      },
      "outputs": [
        {
          "output_type": "stream",
          "name": "stdout",
          "text": [
            "----------------------------------------------------------------\n",
            "        Layer (type)               Output Shape         Param #\n",
            "================================================================\n",
            "            Conv2d-1           [-1, 64, 32, 32]           1,792\n",
            "       BatchNorm2d-2           [-1, 64, 32, 32]             128\n",
            "              ReLU-3           [-1, 64, 32, 32]               0\n",
            "            Conv2d-4           [-1, 64, 32, 32]          36,928\n",
            "       BatchNorm2d-5           [-1, 64, 32, 32]             128\n",
            "              ReLU-6           [-1, 64, 32, 32]               0\n",
            "         MaxPool2d-7           [-1, 64, 16, 16]               0\n",
            "            Conv2d-8          [-1, 128, 16, 16]          73,856\n",
            "       BatchNorm2d-9          [-1, 128, 16, 16]             256\n",
            "             ReLU-10          [-1, 128, 16, 16]               0\n",
            "           Conv2d-11          [-1, 128, 16, 16]         147,584\n",
            "      BatchNorm2d-12          [-1, 128, 16, 16]             256\n",
            "             ReLU-13          [-1, 128, 16, 16]               0\n",
            "        MaxPool2d-14            [-1, 128, 8, 8]               0\n",
            "           Conv2d-15            [-1, 256, 8, 8]         295,168\n",
            "      BatchNorm2d-16            [-1, 256, 8, 8]             512\n",
            "             ReLU-17            [-1, 256, 8, 8]               0\n",
            "           Conv2d-18            [-1, 256, 8, 8]         590,080\n",
            "      BatchNorm2d-19            [-1, 256, 8, 8]             512\n",
            "             ReLU-20            [-1, 256, 8, 8]               0\n",
            "        MaxPool2d-21            [-1, 256, 4, 4]               0\n",
            "           Conv2d-22            [-1, 512, 4, 4]       1,180,160\n",
            "      BatchNorm2d-23            [-1, 512, 4, 4]           1,024\n",
            "             ReLU-24            [-1, 512, 4, 4]               0\n",
            "           Conv2d-25            [-1, 512, 4, 4]       2,359,808\n",
            "      BatchNorm2d-26            [-1, 512, 4, 4]           1,024\n",
            "             ReLU-27            [-1, 512, 4, 4]               0\n",
            "        MaxPool2d-28            [-1, 512, 2, 2]               0\n",
            "           Conv2d-29            [-1, 512, 2, 2]       2,359,808\n",
            "      BatchNorm2d-30            [-1, 512, 2, 2]           1,024\n",
            "             ReLU-31            [-1, 512, 2, 2]               0\n",
            "           Conv2d-32            [-1, 512, 2, 2]       2,359,808\n",
            "      BatchNorm2d-33            [-1, 512, 2, 2]           1,024\n",
            "             ReLU-34            [-1, 512, 2, 2]               0\n",
            "        MaxPool2d-35            [-1, 512, 1, 1]               0\n",
            "          Dropout-36                  [-1, 512]               0\n",
            "           Linear-37                  [-1, 512]         262,656\n",
            "             ReLU-38                  [-1, 512]               0\n",
            "          Dropout-39                  [-1, 512]               0\n",
            "           Linear-40                  [-1, 512]         262,656\n",
            "             ReLU-41                  [-1, 512]               0\n",
            "           Linear-42                   [-1, 10]           5,130\n",
            "================================================================\n",
            "Total params: 9,941,322\n",
            "Trainable params: 9,941,322\n",
            "Non-trainable params: 0\n",
            "----------------------------------------------------------------\n",
            "Input size (MB): 0.01\n",
            "Forward/backward pass size (MB): 5.98\n",
            "Params size (MB): 37.92\n",
            "Estimated Total Size (MB): 43.92\n",
            "----------------------------------------------------------------\n"
          ]
        }
      ],
      "source": [
        "class VGG(nn.Module):\n",
        "    def __init__(self):\n",
        "        super(VGG, self).__init__()\n",
        "        self.layer1 = nn.Sequential(\n",
        "            nn.Conv2d(3,64, kernel_size=3, stride =1, padding = 1),\n",
        "            nn.BatchNorm2d(64),\n",
        "            nn.ReLU(),\n",
        "            nn.Conv2d(64,64, kernel_size=3, stride =1, padding = 1),\n",
        "            nn.BatchNorm2d(64),\n",
        "            nn.ReLU(),\n",
        "            nn.MaxPool2d(kernel_size = 2, stride = 2),\n",
        "            )\n",
        "        self.layer2 = nn.Sequential(\n",
        "            nn.Conv2d(64,128, kernel_size=3, stride =1, padding = 1),\n",
        "            nn.BatchNorm2d(128),\n",
        "            nn.ReLU(),\n",
        "            nn.Conv2d(128,128, kernel_size=3, stride =1, padding = 1),\n",
        "            nn.BatchNorm2d(128),\n",
        "            nn.ReLU(),\n",
        "            nn.MaxPool2d(kernel_size = 2, stride = 2),\n",
        "            )\n",
        "        self.layer3 = nn.Sequential(\n",
        "            nn.Conv2d(128,256, kernel_size=3, stride =1, padding = 1),\n",
        "            nn.BatchNorm2d(256),\n",
        "            nn.ReLU(),\n",
        "            nn.Conv2d(256,256, kernel_size=3, stride =1, padding = 1),\n",
        "            nn.BatchNorm2d(256),\n",
        "            nn.ReLU(),\n",
        "            nn.MaxPool2d(kernel_size = 2, stride = 2),\n",
        "        )\n",
        "        self.layer4 = nn.Sequential(\n",
        "            nn.Conv2d(256,512, kernel_size=3, stride =1, padding = 1),\n",
        "            nn.BatchNorm2d(512),\n",
        "            nn.ReLU(),\n",
        "            nn.Conv2d(512,512, kernel_size=3, stride =1, padding = 1),\n",
        "            nn.BatchNorm2d(512),\n",
        "            nn.ReLU(),\n",
        "            nn.MaxPool2d(kernel_size = 2, stride = 2),\n",
        "        )\n",
        "        self.layer5 = nn.Sequential(\n",
        "            nn.Conv2d(512,512, kernel_size=3, stride =1, padding = 1),\n",
        "            nn.BatchNorm2d(512),\n",
        "            nn.ReLU(),\n",
        "            nn.Conv2d(512,512, kernel_size=3, stride =1, padding = 1),\n",
        "            nn.BatchNorm2d(512),\n",
        "            nn.ReLU(),\n",
        "            nn.MaxPool2d(kernel_size = 2, stride = 2)\n",
        "        )\n",
        "        self.fc1 = nn.Sequential(\n",
        "            nn.Dropout(),\n",
        "            nn.Linear(512, 512),\n",
        "            nn.ReLU(),\n",
        "        )\n",
        "        self.fc2 = nn.Sequential(\n",
        "            nn.Dropout(),\n",
        "            nn.Linear(512, 512),\n",
        "            nn.ReLU(),\n",
        "        )\n",
        "        self.fc3 = nn.Sequential(\n",
        "            nn.Linear(512, 10)\n",
        "        )\n",
        "\n",
        "        for m in self.modules():\n",
        "            if isinstance(m, nn.Conv2d):\n",
        "                torch.nn.init.xavier_uniform_(m.weight.data, gain = 0.5)\n",
        "                m.bias.data.zero_()\n",
        "\n",
        "    def forward(self, x):\n",
        "      #conv layers\n",
        "        x = self.layer1(x)\n",
        "        x = self.layer2(x)\n",
        "        x = self.layer3(x)\n",
        "        x = self.layer4(x)\n",
        "        x = self.layer5(x)\n",
        "      #fully connected layers\n",
        "        x = x.view(x.size(0), -1)\n",
        "        x = self.fc1(x)\n",
        "        x = self.fc2(x)\n",
        "        x = self.fc3(x)\n",
        "        return x\n",
        "\n",
        "\n",
        "model = VGG()\n",
        "model = model.to(device)\n",
        "summary(model, (3, 32 , 32))"
      ]
    },
    {
      "cell_type": "code",
      "execution_count": 5,
      "metadata": {
        "id": "GDkTz72J0VUN"
      },
      "outputs": [],
      "source": [
        "def learning_rate_decay(model, optimizer, decay = 0.5):\n",
        "  for param_group in optimizer.param_groups:\n",
        "        param_group['lr'] = decay*param_group['lr']"
      ]
    },
    {
      "cell_type": "code",
      "source": [
        "x = []\n",
        "vali_loss_history = []\n",
        "train_loss_history = []\n",
        "accuracy_history = []\n",
        "\n",
        "tl_count = 0\n",
        "vl_count = 0\n",
        "\n",
        "plt.ylim([0, 100])\n",
        "plt.xlim([0, 250])\n",
        "plt.xlabel(\"#epochs\")\n",
        "plt.ylabel(\"Accuracy (%)\")\n",
        "\n"
      ],
      "metadata": {
        "id": "H5gtBelsdde1"
      },
      "execution_count": null,
      "outputs": []
    },
    {
      "cell_type": "markdown",
      "metadata": {
        "id": "iKL8qHy3b78b"
      },
      "source": [
        "Train the model\n"
      ]
    },
    {
      "cell_type": "code",
      "execution_count": 7,
      "metadata": {
        "id": "si_P249XQM2K",
        "colab": {
          "base_uri": "https://localhost:8080/"
        },
        "outputId": "ede4fd20-19fc-4c5c-e6a6-549ec9181270"
      },
      "outputs": [
        {
          "output_type": "stream",
          "name": "stderr",
          "text": [
            "Epoch 110: 100%|██████████| 110/110 [1:15:01<00:00, 40.93s/it, test_accuracy=91.4, training_loss=0.00808]\n"
          ]
        }
      ],
      "source": [
        "plt.show()\n",
        "num_epochs = 110\n",
        "count = 1\n",
        "count2 = 0\n",
        "learning_rate = .01\n",
        "decay_after_epochs = [80, 20, 12]\n",
        "model = VGG().to(device)\n",
        "wd = 5*10**(-4) #from original paper\n",
        "criterion = nn.CrossEntropyLoss()\n",
        "optimizer = torch.optim.SGD(model.parameters(), lr = learning_rate, weight_decay = wd)\n",
        "\n",
        "n_total_steps = len(train_load)\n",
        "\n",
        "with trange(1, num_epochs+1) as t:\n",
        "  mloss = 0\n",
        "  for epoch in t:\n",
        "      x.append(epoch)\n",
        "      model.train()\n",
        "      #learning rate decay ** make into function\n",
        "      if count % decay_after_epochs[count2] == 0:\n",
        "        learning_rate_decay(model, optimizer, .1)\n",
        "        count = 0\n",
        "        count2 = count2 + 1\n",
        "      count += 1\n",
        "      train_loss_history.append(0)\n",
        "      for i, (images, labels) in enumerate(train_load):\n",
        "          images = images.to(device)\n",
        "          outputs = model(images)\n",
        "          outputs = outputs.to(device)\n",
        "          labels = labels.to(device)\n",
        "          loss = criterion(outputs, labels)\n",
        "          #print(loss)\n",
        "          train_loss_history[tl_count] += loss.item()\n",
        "          optimizer.zero_grad()\n",
        "          loss.backward()\n",
        "          optimizer.step()\n",
        "          mloss = loss.item()\n",
        "      train_loss_history[tl_count] /= len(train_load)\n",
        "      tl_count += 1\n",
        "      model.eval()\n",
        "      with torch.no_grad():\n",
        "        n_correct = 0\n",
        "        n_samples = 0\n",
        "        n_class_correct = [0 for i in range(10)]\n",
        "        n_class_samples = [0 for i in range(10)]\n",
        "        vali_loss_history.append(0)\n",
        "        for images, labels in test_load:\n",
        "            images = images.to(device)\n",
        "            outputs = model(images)\n",
        "            labels = labels.to(device)\n",
        "            outputs = outputs.to(device)\n",
        "            loss = criterion(outputs, labels)\n",
        "            vali_loss_history[vl_count] += loss.item()\n",
        "            _, predicted = torch.max(outputs, 1)\n",
        "            n_samples += labels.size(0)\n",
        "            n_correct += (predicted == labels).sum().item()\n",
        "            for i in range(batch_size):\n",
        "                if i >= len(labels):\n",
        "                  break;\n",
        "                label = labels[i]\n",
        "                pred = predicted[i]\n",
        "                if (label == pred):\n",
        "                    n_class_correct[label] += 1\n",
        "                n_class_samples[label] += 1\n",
        "        vali_loss_history[vl_count] /= len(test_load)\n",
        "        vl_count += 1\n",
        "\n",
        "\n",
        "        acc = 100.0 * n_correct / n_samples\n",
        "        t.set_description('Epoch %i' % epoch)\n",
        "        t.set_postfix(training_loss=mloss, test_accuracy=acc)\n",
        "        accuracy_history.append(acc)"
      ]
    },
    {
      "cell_type": "markdown",
      "source": [
        "Depict the models' training and validation loss in order to optimize #epochs hyperparameter \\*\\*make dynamic plotting\\*\\*"
      ],
      "metadata": {
        "id": "Pqpbj1TbUxcN"
      }
    },
    {
      "cell_type": "code",
      "source": [
        "plt.ylim([0, 100])\n",
        "plt.xlim([0, num_epochs+2])\n",
        "plt.xlabel(\"#epochs\")\n",
        "plt.ylabel(\"Accuracy (%)\")\n",
        "#print(train_loss_history)\n",
        "plt.plot(x, accuracy_history, label = \"Validation Accuracy\")\n",
        "\n",
        "#print(vali_loss_history)\n",
        "#plt.plot(x, vali_loss_history, label = \"Validation\")\n",
        "\n",
        "plt.legend()\n",
        "plt.show()"
      ],
      "metadata": {
        "id": "Ft5WTtd4QS3z",
        "colab": {
          "base_uri": "https://localhost:8080/",
          "height": 455
        },
        "outputId": "8984f95c-f8e6-468b-8a6d-b089cc9af5ce"
      },
      "execution_count": 10,
      "outputs": [
        {
          "output_type": "display_data",
          "data": {
            "text/plain": [
              "<Figure size 640x480 with 1 Axes>"
            ],
            "image/png": "[encoded data removed]"
          },
          "metadata": {}
        }
      ]
    },
    {
      "cell_type": "code",
      "source": [
        "plt.ylim([0, 2.5])\n",
        "plt.xlim([0, num_epochs+2])\n",
        "plt.xlabel(\"#epochs\")\n",
        "plt.ylabel(\"Loss\")\n",
        "#print(train_loss_history)\n",
        "plt.plot(x, train_loss_history, label = \"Training\")\n",
        "\n",
        "#print(vali_loss_history)\n",
        "plt.plot(x, vali_loss_history, label = \"Validation\")\n",
        "\n",
        "plt.legend()\n",
        "plt.show()"
      ],
      "metadata": {
        "colab": {
          "base_uri": "https://localhost:8080/",
          "height": 455
        },
        "id": "bj2f-SRNgjw4",
        "outputId": "19af9636-3f6d-4bb9-a892-8fa13c350334"
      },
      "execution_count": 12,
      "outputs": [
        {
          "output_type": "display_data",
          "data": {
            "text/plain": [
              "<Figure size 640x480 with 1 Axes>"
            ],
            "image/png": "[encoded data removed]"
          },
          "metadata": {}
        }
      ]
    }
  ],
  "metadata": {
    "colab": {
      "machine_shape": "hm",
      "provenance": [],
      "gpuType": "T4",
      "include_colab_link": true
    },
    "kernelspec": {
      "display_name": "Python 3",
      "name": "python3"
    },
    "language_info": {
      "name": "python"
    },
    "accelerator": "GPU"
  },
  "nbformat": 4,
  "nbformat_minor": 0
}